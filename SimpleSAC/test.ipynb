{
 "cells": [
  {
   "attachments": {},
   "cell_type": "markdown",
   "metadata": {},
   "source": [
    "## args for all experiments"
   ]
  },
  {
   "attachments": {},
   "cell_type": "markdown",
   "metadata": {},
   "source": [
    "Every arg should run on 4 different seeds\n",
    "\n",
    "Only run CQL(H)? or run CQL(\\rho) also?\n",
    "- AntMaze?"
   ]
  },
  {
   "attachments": {},
   "cell_type": "markdown",
   "metadata": {},
   "source": [
    "## Mujoco\n",
    "    - halfcheetah\n",
    "    - hopper\n",
    "    - walker2d\n",
    "\n",
    "    - random\n",
    "    - medium\n",
    "    - expert\n",
    "    - medium-expert\n",
    "    - random-expert\n",
    "    - mixed"
   ]
  },
  {
   "attachments": {},
   "cell_type": "markdown",
   "metadata": {},
   "source": [
    "- python -m SimpleSAC.conservative_sac_main --seed 42 --device 'cuda:1' --env 'halfcheetah-medium-v0' --logging.output_dir './experiment_output/halfcheetah-medium-v0-1' --n_epochs 1000\n",
    "- python -m SimpleSAC.conservative_sac_main --seed 42 --device 'cuda:1' --env 'hopper-medium-v0' --logging.output_dir './experiment_output/hopper-medium-v0-1' --n_epochs 1000\n",
    "- python -m SimpleSAC.conservative_sac_main --seed 42 --device 'cuda:1' --env 'walker2d-medium-v0' --logging.output_dir './experiment_output/walker2d-medium-v0-1' --n_epochs 1000"
   ]
  },
  {
   "attachments": {},
   "cell_type": "markdown",
   "metadata": {},
   "source": [
    "## Adroit\n",
    "    - pen-human\n",
    "    - hammer-human\n",
    "    - door-human\n",
    "    - relocate-human\n",
    "    - pen-clone\n",
    "    - hammer-clone\n",
    "    - door-clone\n",
    "    - relocate-clone"
   ]
  },
  {
   "attachments": {},
   "cell_type": "markdown",
   "metadata": {},
   "source": [
    "- python -m SimpleSAC.conservative_sac_main --seed 42 --device 'cuda:1' --env 'pen-human-v1' --logging.output_dir './experiment_output/pen-human-v1-2-tau' --n_epochs 1000 --cql.cql_lagrange True --cql.cql_target_action_gap 5.0\n",
    "\n",
    "- python -m SimpleSAC.conservative_sac_main --seed 42 --device 'cuda:0' --env 'hammer-human-v1' --logging.output_dir './experiment_output/hammer-human-v1-2-tau' --n_epochs 1000 --cql.cql_lagrange True --cql.cql_target_action_gap 5.0\n",
    "\n",
    "- python -m SimpleSAC.conservative_sac_main --seed 42 --device 'cuda:1' --env 'door-human-v1' --logging.output_dir './experiment_output/door-human-v1-2-tau' --n_epochs 1000 --cql.cql_lagrange True --cql.cql_target_action_gap 5.0\n",
    "\n",
    "- python -m SimpleSAC.conservative_sac_main --seed 42 --device 'cuda:0' --env 'relocate-human-v1' --logging.output_dir './experiment_output/relocate-human-v1-2-tau' --n_epochs 1000 --cql.cql_lagrange True --cql.cql_target_action_gap 5.0\n",
    "\n",
    "Cloned\n",
    "\n",
    "- python -m SimpleSAC.conservative_sac_main --seed 42 --device 'cuda:1' --env 'pen-cloned-v1' --logging.output_dir './experiment_output/pen-cloned-v1-1' --n_epochs 1000\n",
    "- python -m SimpleSAC.conservative_sac_main --seed 43 --device 'cuda:0' --env 'pen-cloned-v1' --logging.output_dir './experiment_output/pen-cloned-v1-2-tau' --n_epochs 1000 --cql.cql_lagrange True --cql.cql_target_action_gap 5.0\n",
    "\n",
    "- python -m SimpleSAC.conservative_sac_main --seed 42 --device 'cuda:1' --env 'hammer-cloned-v1' --logging.output_dir './experiment_output/hammer-cloned-v1-1' --n_epochs 1000\n",
    "- python -m SimpleSAC.conservative_sac_main --seed 43 --device 'cuda:1' --env 'hammer-cloned-v1' --logging.output_dir './experiment_output/hammer-cloned-v1-2-tau' --n_epochs 1000 --cql.cql_lagrange True --cql.cql_target_action_gap 5.0\n",
    "\n",
    "- python -m SimpleSAC.conservative_sac_main --seed 42 --device 'cuda:1' --env 'door-cloned-v1' --logging.output_dir './experiment_output/door-cloned-v1-1' --n_epochs 1000\n",
    "- python -m SimpleSAC.conservative_sac_main --seed 43 --device 'cuda:0' --env 'door-cloned-v1' --logging.output_dir './experiment_output/door-cloned-v1-2-tau' --n_epochs 1000 --cql.cql_lagrange True --cql.cql_target_action_gap 5.0\n",
    "\n",
    "- python -m SimpleSAC.conservative_sac_main --seed 42 --device 'cuda:1' --env 'relocate-cloned-v1' --logging.output_dir './experiment_output/relocate-cloned-v1-1' --n_epochs 1000\n",
    "- python -m SimpleSAC.conservative_sac_main --seed 43 --device 'cuda:1' --env 'relocate-cloned-v1' --logging.output_dir './experiment_output/relocate-cloned-v1-2-tau' --n_epochs 1000 --cql.cql_lagrange True --cql.cql_target_action_gap 5.0"
   ]
  },
  {
   "attachments": {},
   "cell_type": "markdown",
   "metadata": {},
   "source": [
    "## Kitchen\n",
    "    - kitchen-complete\n",
    "    - kitchen-partial\n",
    "    - kitchen-mixed (kitchen-undirected)\n",
    "\n",
    "--cql_lagrange True --cql_target_action_gap 5.0"
   ]
  },
  {
   "attachments": {},
   "cell_type": "markdown",
   "metadata": {},
   "source": [
    "- python -m SimpleSAC.conservative_sac_main --seed 42 --device 'cuda:0' --env 'kitchen-complete-v0' --logging.output_dir './experiment_output/kitchen-complete-v0-1' --n_epochs 1000\n",
    "- python -m SimpleSAC.conservative_sac_main --seed 43 --device 'cuda:0' --env 'kitchen-complete-v0' --logging.output_dir './experiment_output/kitchen-complete-v0-2' --n_epochs 1000\n",
    "- python -m SimpleSAC.conservative_sac_main --seed 43 --device 'cuda:0' --env 'kitchen-complete-v0' --logging.output_dir './experiment_output/kitchen-complete-v0-3-tau' --n_epochs 1000 --cql.cql_lagrange True --cql.cql_target_action_gap 5.0\n",
    "- python -m SimpleSAC.conservative_sac_main --seed 44 --device 'cuda:0' --env 'kitchen-complete-v0' --logging.output_dir './experiment_output/kitchen-complete-v0-4-tau' --n_epochs 1000 --cql.cql_lagrange True --cql.cql_target_action_gap 5.0 --save_model True\n",
    "- python -m SimpleSAC.conservative_sac_main --seed 43 --device 'cuda:1' --env 'kitchen-complete-v0' --logging.output_dir './experiment_output/kitchen-complete-v0-5-tau' --n_epochs 1000 --cql.cql_lagrange True --cql.cql_target_action_gap 5.0 --save_model True\n",
    "- python -m SimpleSAC.conservative_sac_main --seed 46 --device 'cuda:1' --env 'kitchen-complete-v0' --logging.output_dir './experiment_output/kitchen-complete-v0-6-tau' --n_epochs 1000 --cql.cql_lagrange True --cql.cql_target_action_gap 5.0 --save_model True\n",
    "\n",
    "- python -m SimpleSAC.conservative_sac_main --seed 42 --device 'cuda:1' --env 'kitchen-partial-v0' --logging.output_dir './experiment_output/kitchen-partial-v0-1' --n_epochs 1000\n",
    "- python -m SimpleSAC.conservative_sac_main --seed 43 --device 'cuda:1' --env 'kitchen-partial-v0' --logging.output_dir './experiment_output/kitchen-partial-v0-2' --n_epochs 1000\n",
    "- python -m SimpleSAC.conservative_sac_main --seed 43 --device 'cuda:1' --env 'kitchen-partial-v0' --logging.output_dir './experiment_output/kitchen-partial-v0-3-tau' --n_epochs 1000 --cql.cql_lagrange True --cql.cql_target_action_gap 5.0\n",
    "- python -m SimpleSAC.conservative_sac_main --seed 44 --device 'cuda:1' --env 'kitchen-partial-v0' --logging.output_dir './experiment_output/kitchen-partial-v0-4-tau' --n_epochs 1000 --cql.cql_lagrange True --cql.cql_target_action_gap 5.0\n",
    "\n",
    "- python -m SimpleSAC.conservative_sac_main --seed 42 --device 'cuda:0' --env 'kitchen-mixed-v0' --logging.output_dir './experiment_output/kitchen-mixed-v0-1' --n_epochs 1000\n",
    "- python -m SimpleSAC.conservative_sac_main --seed 43 --device 'cuda:1' --env 'kitchen-mixed-v0' --logging.output_dir './experiment_output/kitchen-mixed-v0-2' --n_epochs 1000\n",
    "- python -m SimpleSAC.conservative_sac_main --seed 43 --device 'cuda:1' --env 'kitchen-mixed-v0' --logging.output_dir './experiment_output/kitchen-mixed-v0-3-tau' --n_epochs 1000 --cql.cql_lagrange True --cql.cql_target_action_gap 5.0\n",
    "- python -m SimpleSAC.conservative_sac_main --seed 44 --device 'cuda:1' --env 'kitchen-mixed-v0' --logging.output_dir './experiment_output/kitchen-mixed-v0-4-tau' --n_epochs 1000 --cql.cql_lagrange True --cql.cql_target_action_gap 5.0"
   ]
  },
  {
   "cell_type": "code",
   "execution_count": null,
   "metadata": {},
   "outputs": [],
   "source": [
    "a = list(a)\n",
    "for i in range(len(a)):\n",
    "    print(a[i])"
   ]
  },
  {
   "cell_type": "code",
   "execution_count": null,
   "metadata": {},
   "outputs": [],
   "source": []
  }
 ],
 "metadata": {
  "kernelspec": {
   "display_name": "DT",
   "language": "python",
   "name": "python3"
  },
  "language_info": {
   "codemirror_mode": {
    "name": "ipython",
    "version": 3
   },
   "file_extension": ".py",
   "mimetype": "text/x-python",
   "name": "python",
   "nbconvert_exporter": "python",
   "pygments_lexer": "ipython3",
   "version": "3.9.13"
  },
  "orig_nbformat": 4
 },
 "nbformat": 4,
 "nbformat_minor": 2
}
